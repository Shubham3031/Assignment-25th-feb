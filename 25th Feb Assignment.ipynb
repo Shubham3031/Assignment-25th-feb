{
 "cells": [
  {
   "cell_type": "code",
   "execution_count": 9,
   "id": "9da79753-1c61-46e9-89af-9650aff58f00",
   "metadata": {},
   "outputs": [
    {
     "data": {
      "text/html": [
       "<div>\n",
       "<style scoped>\n",
       "    .dataframe tbody tr th:only-of-type {\n",
       "        vertical-align: middle;\n",
       "    }\n",
       "\n",
       "    .dataframe tbody tr th {\n",
       "        vertical-align: top;\n",
       "    }\n",
       "\n",
       "    .dataframe thead th {\n",
       "        text-align: right;\n",
       "    }\n",
       "</style>\n",
       "<table border=\"1\" class=\"dataframe\">\n",
       "  <thead>\n",
       "    <tr style=\"text-align: right;\">\n",
       "      <th></th>\n",
       "      <th>course_name</th>\n",
       "      <th>duration</th>\n",
       "    </tr>\n",
       "  </thead>\n",
       "  <tbody>\n",
       "    <tr>\n",
       "      <th>0</th>\n",
       "      <td>Data Science</td>\n",
       "      <td>2</td>\n",
       "    </tr>\n",
       "    <tr>\n",
       "      <th>1</th>\n",
       "      <td>Machine Learning</td>\n",
       "      <td>3</td>\n",
       "    </tr>\n",
       "    <tr>\n",
       "      <th>2</th>\n",
       "      <td>Big Data</td>\n",
       "      <td>6</td>\n",
       "    </tr>\n",
       "    <tr>\n",
       "      <th>3</th>\n",
       "      <td>Data Engineer</td>\n",
       "      <td>4</td>\n",
       "    </tr>\n",
       "  </tbody>\n",
       "</table>\n",
       "</div>"
      ],
      "text/plain": [
       "        course_name  duration\n",
       "0      Data Science         2\n",
       "1  Machine Learning         3\n",
       "2          Big Data         6\n",
       "3     Data Engineer         4"
      ]
     },
     "execution_count": 9,
     "metadata": {},
     "output_type": "execute_result"
    }
   ],
   "source": [
    "# 1.Ans.\n",
    "\n",
    "import pandas as pd\n",
    "\n",
    "course_name = ['Data Science', 'Machine Learning', 'Big Data', 'Data Engineer']\n",
    "\n",
    "duration =  [2,3,6,4]\n",
    "\n",
    "df = pd.DataFrame(data = {'course_name' : course_name, 'duration' : duration})\n",
    "df\n"
   ]
  },
  {
   "cell_type": "code",
   "execution_count": 10,
   "id": "696f083e-e8ee-4207-92f6-bc6dd0a2de9b",
   "metadata": {},
   "outputs": [
    {
     "data": {
      "text/plain": [
       "course_name    Machine Learning\n",
       "duration                      3\n",
       "Name: 1, dtype: object"
      ]
     },
     "execution_count": 10,
     "metadata": {},
     "output_type": "execute_result"
    }
   ],
   "source": [
    "df.iloc[1]"
   ]
  },
  {
   "cell_type": "code",
   "execution_count": null,
   "id": "263dcbbb-c2bb-4840-a49e-e8e98624a1c3",
   "metadata": {},
   "outputs": [],
   "source": [
    "# 2. Ans.\n",
    "\n",
    "loc is a label-based indexer, which means it uses labels or index values to select rows and columns\n",
    "\n",
    "iloc, on the other hand, is an integer-based indexer, which means it uses integer\n",
    "positions to select rows and columns."
   ]
  },
  {
   "cell_type": "code",
   "execution_count": 13,
   "id": "acc34435-40d7-4662-b4bb-bd0f4da79510",
   "metadata": {},
   "outputs": [],
   "source": [
    "# 3.Ans.\n",
    "\n",
    "import pandas as pd\n",
    "\n",
    "course_name = ['Data Science', 'Machine Learning', 'Big Data', 'Data Engineer']\n",
    "\n",
    "duration =  [2,3,6,4]\n",
    "\n",
    "df = pd.DataFrame(data = {'course_name' : course_name, 'duration' : duration})\n",
    "\n",
    "new_df  = df.reindex([3,0,1,2])\n",
    "\n"
   ]
  },
  {
   "cell_type": "code",
   "execution_count": 14,
   "id": "b457e8e0-60ba-4914-997a-a21855681507",
   "metadata": {},
   "outputs": [
    {
     "data": {
      "text/html": [
       "<div>\n",
       "<style scoped>\n",
       "    .dataframe tbody tr th:only-of-type {\n",
       "        vertical-align: middle;\n",
       "    }\n",
       "\n",
       "    .dataframe tbody tr th {\n",
       "        vertical-align: top;\n",
       "    }\n",
       "\n",
       "    .dataframe thead th {\n",
       "        text-align: right;\n",
       "    }\n",
       "</style>\n",
       "<table border=\"1\" class=\"dataframe\">\n",
       "  <thead>\n",
       "    <tr style=\"text-align: right;\">\n",
       "      <th></th>\n",
       "      <th>course_name</th>\n",
       "      <th>duration</th>\n",
       "    </tr>\n",
       "  </thead>\n",
       "  <tbody>\n",
       "    <tr>\n",
       "      <th>3</th>\n",
       "      <td>Data Engineer</td>\n",
       "      <td>4</td>\n",
       "    </tr>\n",
       "    <tr>\n",
       "      <th>0</th>\n",
       "      <td>Data Science</td>\n",
       "      <td>2</td>\n",
       "    </tr>\n",
       "    <tr>\n",
       "      <th>1</th>\n",
       "      <td>Machine Learning</td>\n",
       "      <td>3</td>\n",
       "    </tr>\n",
       "    <tr>\n",
       "      <th>2</th>\n",
       "      <td>Big Data</td>\n",
       "      <td>6</td>\n",
       "    </tr>\n",
       "  </tbody>\n",
       "</table>\n",
       "</div>"
      ],
      "text/plain": [
       "        course_name  duration\n",
       "3     Data Engineer         4\n",
       "0      Data Science         2\n",
       "1  Machine Learning         3\n",
       "2          Big Data         6"
      ]
     },
     "execution_count": 14,
     "metadata": {},
     "output_type": "execute_result"
    }
   ],
   "source": [
    "new_df"
   ]
  },
  {
   "cell_type": "code",
   "execution_count": 18,
   "id": "6fd4366f-d1aa-48e3-93fd-e16a363c3d26",
   "metadata": {},
   "outputs": [
    {
     "data": {
      "text/plain": [
       "course_name    Big Data\n",
       "duration              6\n",
       "Name: 2, dtype: object"
      ]
     },
     "execution_count": 18,
     "metadata": {},
     "output_type": "execute_result"
    }
   ],
   "source": [
    "new_df.loc[2]  "
   ]
  },
  {
   "cell_type": "code",
   "execution_count": 19,
   "id": "52210ac3-c642-48fe-80f6-eb9710545b7a",
   "metadata": {},
   "outputs": [
    {
     "data": {
      "text/plain": [
       "course_name    Machine Learning\n",
       "duration                      3\n",
       "Name: 1, dtype: object"
      ]
     },
     "execution_count": 19,
     "metadata": {},
     "output_type": "execute_result"
    }
   ],
   "source": [
    "new_df.iloc[2]"
   ]
  },
  {
   "cell_type": "code",
   "execution_count": null,
   "id": "0e4c7d2c-44b7-495f-aeb0-5bf9fc8c21dd",
   "metadata": {},
   "outputs": [],
   "source": [
    "Yes both the outputs are different. loc[2] takes the index value 2 which is Big Data.\n",
    "but iloc[2] takes  an integer based indexer means it takes the index 2 which is Machine Learning."
   ]
  },
  {
   "cell_type": "code",
   "execution_count": 21,
   "id": "fd2617c6-3e67-4311-a552-7ba62f7f4949",
   "metadata": {},
   "outputs": [],
   "source": [
    "# 4.Ans.\n",
    "\n",
    "import pandas as pd\n",
    "\n",
    "import numpy as np\n",
    "\n",
    "columns = ['column_1', 'column_2', 'column_3', 'column_4', 'column_5', 'column_6']\n",
    "\n",
    "indices = [1,2,3,4,5,6]\n",
    "\n",
    "df1 = pd.DataFrame(np.random.rand(6,6), columns = columns, index = indices)\n"
   ]
  },
  {
   "cell_type": "code",
   "execution_count": 22,
   "id": "e9686036-79ae-4a46-9336-4d8964758c2e",
   "metadata": {},
   "outputs": [
    {
     "data": {
      "text/html": [
       "<div>\n",
       "<style scoped>\n",
       "    .dataframe tbody tr th:only-of-type {\n",
       "        vertical-align: middle;\n",
       "    }\n",
       "\n",
       "    .dataframe tbody tr th {\n",
       "        vertical-align: top;\n",
       "    }\n",
       "\n",
       "    .dataframe thead th {\n",
       "        text-align: right;\n",
       "    }\n",
       "</style>\n",
       "<table border=\"1\" class=\"dataframe\">\n",
       "  <thead>\n",
       "    <tr style=\"text-align: right;\">\n",
       "      <th></th>\n",
       "      <th>column_1</th>\n",
       "      <th>column_2</th>\n",
       "      <th>column_3</th>\n",
       "      <th>column_4</th>\n",
       "      <th>column_5</th>\n",
       "      <th>column_6</th>\n",
       "    </tr>\n",
       "  </thead>\n",
       "  <tbody>\n",
       "    <tr>\n",
       "      <th>1</th>\n",
       "      <td>0.517603</td>\n",
       "      <td>0.037480</td>\n",
       "      <td>0.549938</td>\n",
       "      <td>0.930578</td>\n",
       "      <td>0.076938</td>\n",
       "      <td>0.938034</td>\n",
       "    </tr>\n",
       "    <tr>\n",
       "      <th>2</th>\n",
       "      <td>0.763918</td>\n",
       "      <td>0.195013</td>\n",
       "      <td>0.815529</td>\n",
       "      <td>0.130837</td>\n",
       "      <td>0.371593</td>\n",
       "      <td>0.801213</td>\n",
       "    </tr>\n",
       "    <tr>\n",
       "      <th>3</th>\n",
       "      <td>0.708811</td>\n",
       "      <td>0.990419</td>\n",
       "      <td>0.960246</td>\n",
       "      <td>0.719366</td>\n",
       "      <td>0.420474</td>\n",
       "      <td>0.738966</td>\n",
       "    </tr>\n",
       "    <tr>\n",
       "      <th>4</th>\n",
       "      <td>0.244604</td>\n",
       "      <td>0.587185</td>\n",
       "      <td>0.777295</td>\n",
       "      <td>0.639648</td>\n",
       "      <td>0.271428</td>\n",
       "      <td>0.168674</td>\n",
       "    </tr>\n",
       "    <tr>\n",
       "      <th>5</th>\n",
       "      <td>0.969637</td>\n",
       "      <td>0.455998</td>\n",
       "      <td>0.124816</td>\n",
       "      <td>0.901110</td>\n",
       "      <td>0.987572</td>\n",
       "      <td>0.972106</td>\n",
       "    </tr>\n",
       "    <tr>\n",
       "      <th>6</th>\n",
       "      <td>0.429292</td>\n",
       "      <td>0.733185</td>\n",
       "      <td>0.235717</td>\n",
       "      <td>0.889696</td>\n",
       "      <td>0.781283</td>\n",
       "      <td>0.569844</td>\n",
       "    </tr>\n",
       "  </tbody>\n",
       "</table>\n",
       "</div>"
      ],
      "text/plain": [
       "   column_1  column_2  column_3  column_4  column_5  column_6\n",
       "1  0.517603  0.037480  0.549938  0.930578  0.076938  0.938034\n",
       "2  0.763918  0.195013  0.815529  0.130837  0.371593  0.801213\n",
       "3  0.708811  0.990419  0.960246  0.719366  0.420474  0.738966\n",
       "4  0.244604  0.587185  0.777295  0.639648  0.271428  0.168674\n",
       "5  0.969637  0.455998  0.124816  0.901110  0.987572  0.972106\n",
       "6  0.429292  0.733185  0.235717  0.889696  0.781283  0.569844"
      ]
     },
     "execution_count": 22,
     "metadata": {},
     "output_type": "execute_result"
    }
   ],
   "source": [
    "df1"
   ]
  },
  {
   "cell_type": "code",
   "execution_count": 23,
   "id": "68d5a103-23f7-470c-9a8e-ba91fbfb4bb1",
   "metadata": {},
   "outputs": [
    {
     "data": {
      "text/plain": [
       "column_1    0.605644\n",
       "column_2    0.499880\n",
       "column_3    0.577257\n",
       "column_4    0.701873\n",
       "column_5    0.484881\n",
       "column_6    0.698140\n",
       "dtype: float64"
      ]
     },
     "execution_count": 23,
     "metadata": {},
     "output_type": "execute_result"
    }
   ],
   "source": [
    "df1.mean()"
   ]
  },
  {
   "cell_type": "code",
   "execution_count": 31,
   "id": "c4b6f83d-6a41-426b-b4c0-510370901cc7",
   "metadata": {},
   "outputs": [
    {
     "data": {
      "text/plain": [
       "0.3496756851779114"
      ]
     },
     "execution_count": 31,
     "metadata": {},
     "output_type": "execute_result"
    }
   ],
   "source": [
    "df1['column_2'].std()"
   ]
  },
  {
   "cell_type": "code",
   "execution_count": 33,
   "id": "2e4c4157-2461-40d2-9a83-c214271c39ea",
   "metadata": {},
   "outputs": [
    {
     "data": {
      "text/html": [
       "<div>\n",
       "<style scoped>\n",
       "    .dataframe tbody tr th:only-of-type {\n",
       "        vertical-align: middle;\n",
       "    }\n",
       "\n",
       "    .dataframe tbody tr th {\n",
       "        vertical-align: top;\n",
       "    }\n",
       "\n",
       "    .dataframe thead th {\n",
       "        text-align: right;\n",
       "    }\n",
       "</style>\n",
       "<table border=\"1\" class=\"dataframe\">\n",
       "  <thead>\n",
       "    <tr style=\"text-align: right;\">\n",
       "      <th></th>\n",
       "      <th>column_1</th>\n",
       "      <th>column_2</th>\n",
       "      <th>column_3</th>\n",
       "      <th>column_4</th>\n",
       "      <th>column_5</th>\n",
       "      <th>column_6</th>\n",
       "    </tr>\n",
       "  </thead>\n",
       "  <tbody>\n",
       "    <tr>\n",
       "      <th>1</th>\n",
       "      <td>0.517603</td>\n",
       "      <td>0.03748</td>\n",
       "      <td>0.549938</td>\n",
       "      <td>0.930578</td>\n",
       "      <td>0.076938</td>\n",
       "      <td>0.938034</td>\n",
       "    </tr>\n",
       "    <tr>\n",
       "      <th>2</th>\n",
       "      <td>0.763918</td>\n",
       "      <td>string_variable</td>\n",
       "      <td>0.815529</td>\n",
       "      <td>0.130837</td>\n",
       "      <td>0.371593</td>\n",
       "      <td>0.801213</td>\n",
       "    </tr>\n",
       "    <tr>\n",
       "      <th>3</th>\n",
       "      <td>0.708811</td>\n",
       "      <td>0.990419</td>\n",
       "      <td>0.960246</td>\n",
       "      <td>0.719366</td>\n",
       "      <td>0.420474</td>\n",
       "      <td>0.738966</td>\n",
       "    </tr>\n",
       "    <tr>\n",
       "      <th>4</th>\n",
       "      <td>0.244604</td>\n",
       "      <td>0.587185</td>\n",
       "      <td>0.777295</td>\n",
       "      <td>0.639648</td>\n",
       "      <td>0.271428</td>\n",
       "      <td>0.168674</td>\n",
       "    </tr>\n",
       "    <tr>\n",
       "      <th>5</th>\n",
       "      <td>0.969637</td>\n",
       "      <td>0.455998</td>\n",
       "      <td>0.124816</td>\n",
       "      <td>0.901110</td>\n",
       "      <td>0.987572</td>\n",
       "      <td>0.972106</td>\n",
       "    </tr>\n",
       "    <tr>\n",
       "      <th>6</th>\n",
       "      <td>0.429292</td>\n",
       "      <td>0.733185</td>\n",
       "      <td>0.235717</td>\n",
       "      <td>0.889696</td>\n",
       "      <td>0.781283</td>\n",
       "      <td>0.569844</td>\n",
       "    </tr>\n",
       "  </tbody>\n",
       "</table>\n",
       "</div>"
      ],
      "text/plain": [
       "   column_1         column_2  column_3  column_4  column_5  column_6\n",
       "1  0.517603          0.03748  0.549938  0.930578  0.076938  0.938034\n",
       "2  0.763918  string_variable  0.815529  0.130837  0.371593  0.801213\n",
       "3  0.708811         0.990419  0.960246  0.719366  0.420474  0.738966\n",
       "4  0.244604         0.587185  0.777295  0.639648  0.271428  0.168674\n",
       "5  0.969637         0.455998  0.124816  0.901110  0.987572  0.972106\n",
       "6  0.429292         0.733185  0.235717  0.889696  0.781283  0.569844"
      ]
     },
     "execution_count": 33,
     "metadata": {},
     "output_type": "execute_result"
    }
   ],
   "source": [
    "# 5.Ans.\n",
    "\n",
    "df1.loc[2, 'column_2'] = 'string_variable'\n",
    "\n",
    "df1\n"
   ]
  },
  {
   "cell_type": "code",
   "execution_count": null,
   "id": "d0fb59a2-1bcf-4862-9b48-9a5e309a9f0b",
   "metadata": {},
   "outputs": [],
   "source": [
    "df1['column_2'].mean() # this gives an error unsupported operand type(s) for +: 'float' and 'str'"
   ]
  },
  {
   "cell_type": "code",
   "execution_count": null,
   "id": "c4ca2b27-4729-4b44-9c13-da9b3ee98b57",
   "metadata": {},
   "outputs": [],
   "source": [
    "# 6.Ans.\n",
    "\n",
    "In Pandas, the windows functions are used for performing calculations on a rolling window of data. \n",
    "These functions are designed to work on a set of values called a window, which is a fixed-size subset \n",
    "of the data. The window is then shifted across the data, and the function is applied to each window.\n",
    "\n",
    "There are several types of window functions in Pandas, which include:\n",
    "\n",
    "Rolling: This function creates a rolling window of a fixed-size and applies a function to it.\n",
    "\n",
    "Expanding: This function creates a window that starts with a minimum size and expands to include more\n",
    "data as it moves forward.\n",
    "\n",
    "Exponential: This function assigns weights to data points based on their distance from the current time period.\n",
    "\n",
    "Rolling Window Aggregations: This function computes aggregations on a rolling window, such as mean\n",
    ", median, min, max, etc.\n",
    "\n",
    "Rolling Apply: This function applies a user-defined function to each rolling window."
   ]
  },
  {
   "cell_type": "code",
   "execution_count": 37,
   "id": "a57bef6a-bb5a-432c-92f8-f4bef95706ef",
   "metadata": {},
   "outputs": [
    {
     "name": "stdout",
     "output_type": "stream",
     "text": [
      "Current Month: 3\n",
      "Current Year: 2023\n"
     ]
    }
   ],
   "source": [
    "# 7.Ans.\n",
    "\n",
    "import pandas as pd\n",
    "\n",
    "now = pd.Timestamp.now()\n",
    "\n",
    "current_month = now.month\n",
    "current_year = now.year\n",
    "\n",
    "print(\"Current Month:\", current_month)\n",
    "print(\"Current Year:\", current_year)\n"
   ]
  },
  {
   "cell_type": "code",
   "execution_count": 41,
   "id": "01527a80-abb3-41d7-b762-19b0c13a3ec2",
   "metadata": {},
   "outputs": [
    {
     "name": "stdin",
     "output_type": "stream",
     "text": [
      "Enter the 1st date (YYYY-MM-DD): 01-01-2002\n",
      "Enter the 2nd date (YYYY-MM-DD): 19-03-2023\n"
     ]
    },
    {
     "name": "stdout",
     "output_type": "stream",
     "text": [
      "The difference is:\n",
      "7747 days, 0 hours, and 0 minutes.\n"
     ]
    },
    {
     "name": "stderr",
     "output_type": "stream",
     "text": [
      "/tmp/ipykernel_77/1423927933.py:8: UserWarning: Parsing dates in DD/MM/YYYY format when dayfirst=False (the default) was specified. This may lead to inconsistently parsed dates! Specify a format to ensure consistent parsing.\n",
      "  date2 = pd.Timestamp(date2_str)\n"
     ]
    }
   ],
   "source": [
    "# 8.Ans.\n",
    "\n",
    "import pandas as pd\n",
    "date1_str = input(\"Enter the 1st date (YYYY-MM-DD):\")\n",
    "date2_str = input(\"Enter the 2nd date (YYYY-MM-DD):\")\n",
    "\n",
    "date1 = pd.Timestamp(date1_str)\n",
    "date2 = pd.Timestamp(date2_str)\n",
    "\n",
    "timedelta = date2 - date1\n",
    "\n",
    "days = timedelta.days\n",
    "hours = timedelta.seconds // 3600\n",
    "minutes = (timedelta.seconds // 60) % 60\n",
    "\n",
    "print(\"The difference is:\")\n",
    "print(f\"{days} days, {hours} hours, and {minutes} minutes.\")\n",
    "\n",
    "\n",
    "\n",
    "\n"
   ]
  },
  {
   "cell_type": "code",
   "execution_count": 47,
   "id": "5d0ec287-2722-43e2-939d-2d5d4ec5d739",
   "metadata": {},
   "outputs": [
    {
     "name": "stdin",
     "output_type": "stream",
     "text": [
      "Enter file path:  https://raw.githubusercontent.com/datasciencedojo/datasets/master/titanic.csv\n",
      "Enter column name to convert to categorical data type:  Sex\n",
      "Enter category order (comma-separated):  male,female\n"
     ]
    },
    {
     "name": "stdout",
     "output_type": "stream",
     "text": [
      "     PassengerId  Survived  Pclass                                    Name  \\\n",
      "0              1         0       3                 Braund, Mr. Owen Harris   \n",
      "532          533         0       3                    Elias, Mr. Joseph Jr   \n",
      "536          537         0       1       Butt, Major. Archibald Willingham   \n",
      "538          539         0       3                Risien, Mr. Samuel Beard   \n",
      "543          544         1       2                       Beane, Mr. Edward   \n",
      "..           ...       ...     ...                                     ...   \n",
      "290          291         1       1            Barber, Miss. Ellen \"Nellie\"   \n",
      "651          652         1       2                     Doling, Miss. Elsie   \n",
      "289          290         1       3                    Connolly, Miss. Kate   \n",
      "166          167         1       1  Chibnall, Mrs. (Edith Martha Bowerman)   \n",
      "184          185         1       3     Kink-Heilmann, Miss. Luise Gretchen   \n",
      "\n",
      "        Sex   Age  SibSp  Parch     Ticket     Fare Cabin Embarked  \n",
      "0      male  22.0      1      0  A/5 21171   7.2500   NaN        S  \n",
      "532    male  17.0      1      1       2690   7.2292   NaN        C  \n",
      "536    male  45.0      0      0     113050  26.5500   B38        S  \n",
      "538    male   NaN      0      0     364498  14.5000   NaN        S  \n",
      "543    male  32.0      1      0       2908  26.0000   NaN        S  \n",
      "..      ...   ...    ...    ...        ...      ...   ...      ...  \n",
      "290  female  26.0      0      0      19877  78.8500   NaN        S  \n",
      "651  female  18.0      0      1     231919  23.0000   NaN        S  \n",
      "289  female  22.0      0      0     370373   7.7500   NaN        Q  \n",
      "166  female   NaN      0      1     113505  55.0000   E33        S  \n",
      "184  female   4.0      0      2     315153  22.0250   NaN        S  \n",
      "\n",
      "[891 rows x 12 columns]\n"
     ]
    }
   ],
   "source": [
    "# 9.Ans.\n",
    "\n",
    "import pandas as pd\n",
    "\n",
    "# Prompt user to enter file path, column name, and category order\n",
    "file_path = input(\"Enter file path: \")\n",
    "column_name = input(\"Enter column name to convert to categorical data type: \")\n",
    "category_order = input(\"Enter category order (comma-separated): \").split(\",\")\n",
    "\n",
    "data = pd.read_csv(file_path)\n",
    "\n",
    "data[column_name] = pd.Categorical(data[column_name], categories=category_order, ordered=True)\n",
    "\n",
    "sorted_data = data.sort_values(column_name)\n",
    "print(sorted_data)\n"
   ]
  },
  {
   "cell_type": "code",
   "execution_count": null,
   "id": "465644cc-1b11-4086-9971-329d6ea15f9a",
   "metadata": {},
   "outputs": [],
   "source": [
    "# 10.Ans.\n",
    "\n",
    "import pandas as pd\n",
    "import matplotlib.pyplot as plt\n",
    "\n",
    "file_path = input(\"Enter file path: \")\n",
    "\n",
    "data = pd.read_csv(file_path)\n",
    "\n",
    "data['Date'] = pd.to_datetime(data['Date'])\n",
    "\n",
    "grouped_data = data.groupby(['Category', 'Date'])['Sales'].sum().unstack()\n",
    "\n",
    "grouped_data.plot(kind='bar', stacked=True)\n",
    "\n",
    "plt.title('Sales by Product Category over Time')\n",
    "plt.xlabel('Date')\n",
    "plt.ylabel('Sales')\n",
    "\n",
    "plt.show()\n"
   ]
  },
  {
   "cell_type": "code",
   "execution_count": null,
   "id": "e7e6b825-c49d-4f0a-9af3-42e7164ace72",
   "metadata": {},
   "outputs": [],
   "source": [
    "# 11.Ans.\n",
    "\n",
    "import pandas as pd\n",
    "\n",
    "file_path = input(\"Enter the path:\")\n",
    "\n",
    "data = pd.read_csv('')\n",
    "\n",
    "mean_score = data['Test Score'].mean()\n",
    "median_score = data['Test Score'].median()\n",
    "mode_score = data['Test Score'].mode()\n",
    "\n",
    "ans = pd.DataFrame({'Statistic': ['Mean', 'Median', 'Mode'],\n",
    "                        'Test Score': [mean_score, median_score, mode_score]})\n",
    "print(ans)\n"
   ]
  },
  {
   "cell_type": "code",
   "execution_count": null,
   "id": "97d24c84-4abc-415c-aac7-b4954d9ebd71",
   "metadata": {},
   "outputs": [],
   "source": []
  }
 ],
 "metadata": {
  "kernelspec": {
   "display_name": "Python 3 (ipykernel)",
   "language": "python",
   "name": "python3"
  },
  "language_info": {
   "codemirror_mode": {
    "name": "ipython",
    "version": 3
   },
   "file_extension": ".py",
   "mimetype": "text/x-python",
   "name": "python",
   "nbconvert_exporter": "python",
   "pygments_lexer": "ipython3",
   "version": "3.10.6"
  }
 },
 "nbformat": 4,
 "nbformat_minor": 5
}
